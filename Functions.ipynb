{
  "nbformat": 4,
  "nbformat_minor": 0,
  "metadata": {
    "colab": {
      "provenance": []
    },
    "kernelspec": {
      "name": "python3",
      "display_name": "Python 3"
    },
    "language_info": {
      "name": "python"
    }
  },
  "cells": [
    {
      "cell_type": "markdown",
      "source": [
        "Question-1 What is the difference between a function and a method in Python?\n",
        "Answer-\n",
        "*A block of code that performs a specific task and is defined using the def keyword\n",
        "\n",
        "*A function that is associated with an object (usually a class instance) and operates on that object’s data.\n",
        "\n",
        "Aspect ------------------- Function ------------------------- Method\n",
        "\n",
        "Association ----------not tied to any object ---------- Associated with a class or object\n",
        "\n",
        "Call ------------------ Called directly ------------ Called on an object (e.g., obj.method)"
      ],
      "metadata": {
        "id": "WImpH-Bl3vuL"
      }
    },
    {
      "cell_type": "markdown",
      "source": [
        "Question- 2 Explain the concept of function arguments and parameters in Python?\n",
        "answer-\n",
        "*   Parameters are the variables listed in a function's definition. They act as placeholders that specify what kind of data the function expects when called.\n",
        "*   Arguments are the actual values passed to a function when it is called. They replace the parameters in the function definition.\n",
        "\n"
      ],
      "metadata": {
        "id": "KQQryxGK34k8"
      }
    },
    {
      "cell_type": "markdown",
      "source": [
        "Question-3 What are the different ways to define and call a function in Python?\n",
        "\n",
        "\n",
        "\n"
      ],
      "metadata": {
        "id": "IRR2_o9x4Beb"
      }
    },
    {
      "cell_type": "code",
      "source": [
        "#answer\n",
        "# syntax of function\n",
        "def num(name):\n",
        "    print ('hello world , my name is',name)\n",
        "\n",
        " # call a function\n",
        "num('Akash')\n",
        "\n",
        "\n",
        "# function default agrument\n",
        "def sum(a,b,c=2):\n",
        "    return (a+b+c)\n",
        "\n",
        "#call a function\n",
        "sum(2,2,3)\n",
        "\n",
        "\n",
        "# function with postional argument\n",
        "def name(w,e):\n",
        "    return w,e\n",
        "\n",
        "\n",
        "#call a function\n",
        "name('pw','skills')"
      ],
      "metadata": {
        "colab": {
          "base_uri": "https://localhost:8080/"
        },
        "id": "Dm5WiWzS539l",
        "outputId": "69700134-fea9-4adf-8657-1e285ea61925"
      },
      "execution_count": 3,
      "outputs": [
        {
          "output_type": "stream",
          "name": "stdout",
          "text": [
            "hello world , my name is Akash\n"
          ]
        },
        {
          "output_type": "execute_result",
          "data": {
            "text/plain": [
              "('pw', 'skills')"
            ]
          },
          "metadata": {},
          "execution_count": 3
        }
      ]
    },
    {
      "cell_type": "markdown",
      "source": [
        "Question-4 What is the purpose of the return statement in a Python function?\n",
        "answer-\n",
        "*  'Return' statement basically return the output back to the part of program that called it.\n",
        "* Communication: Allows functions to send results back to the calling code.\n",
        "*  Reusability: Enables creating modular and reusable functions that can be used in different contexts.\n",
        "\n",
        "\n"
      ],
      "metadata": {
        "id": "qgk0aoMZ6JdD"
      }
    },
    {
      "cell_type": "markdown",
      "source": [
        "Question-5 What are iterators in Python and how do they differ from iterables?\n",
        "Answer_\n",
        "*An iterable is an object that contains a collection of elements and can be iterated (looped) over.\n",
        "*An iterator is an object that enables sequential access to elements in an iterable. It keeps track of its current position and provides the next value when requested using the next() function."
      ],
      "metadata": {
        "id": "_Ze3cxNh6vvK"
      }
    },
    {
      "cell_type": "markdown",
      "source": [
        "Question-6 Explain the concept of generators in Python and how they are defined.\n",
        "answer-\n",
        "*Generators are defined like regular functions but use the yield keyword instead of return.\n"
      ],
      "metadata": {
        "id": "AS_sjttm7RGa"
      }
    },
    {
      "cell_type": "code",
      "source": [
        "# answer\n",
        "def my_gen():\n",
        "    for i in range(1, 4):\n",
        "        yield i\n",
        "\n",
        "my_gen()"
      ],
      "metadata": {
        "colab": {
          "base_uri": "https://localhost:8080/"
        },
        "id": "ex4DUfWS8ENZ",
        "outputId": "42b22cfe-3439-422f-f16f-131f6676c59d"
      },
      "execution_count": 5,
      "outputs": [
        {
          "output_type": "execute_result",
          "data": {
            "text/plain": [
              "<generator object my_gen at 0x7a952e31fc30>"
            ]
          },
          "metadata": {},
          "execution_count": 5
        }
      ]
    },
    {
      "cell_type": "markdown",
      "source": [
        "Question-7 What are the advantages of using generators over regular functions?\n",
        "answer-\n",
        "*Produces items lazily (low memory use) - Generator    \n",
        "* Returns all data at once (high memory) - Regular Function\n",
        "Evaluation\n",
        "*Lazy (on demand) - Generator\n",
        "*Eager (immediate computation) - Regular Function\n",
        "Efficiency\n",
        "*Faster for large data or pipelines - Generator\n",
        "*Slower due to data storage overhead - Regular Function\n",
        "Infinite Sequences\n",
        "*Easily handles infinite data - Generator\n",
        "*Requires special handling - Regular Function\n",
        "Code Simplicity\n",
        "*Clean and concise with yield - Generator\n",
        "*May require complex logic - Regular Function\n",
        "\n",
        "\n"
      ],
      "metadata": {
        "id": "h9emmmkc9FU5"
      }
    },
    {
      "cell_type": "markdown",
      "source": [
        "Question-8 What is a lambda function in Python and when is it typically used?\n",
        "\n",
        "answer -\n",
        "*A lambda function is a small, anonymous function defined using the lambda keyword. It can have any number of arguments but only one expression.\n",
        "\n",
        "*When you need a simple function for a short task and don't want to formally define a function with def.\n",
        "\n",
        "*Lambda functions are often used when a function is required as an argument to other functions, especially in functions like map(), filter(), and sorted().\n",
        "\n",
        "*When a function is needed temporarily and does not need to be reused elsewhere, a lambda provides a concise way to express it."
      ],
      "metadata": {
        "id": "6csPU8VcAWOu"
      }
    },
    {
      "cell_type": "markdown",
      "source": [
        "Question-9 Explain the purpose and usage of the map() function in Python?\n",
        "\n",
        "answer -\n",
        "*The main purpose of map() is to transform each element of an iterable by applying a function to it.\n",
        "\n",
        "*It helps avoid writing loops explicitly for transformations."
      ],
      "metadata": {
        "id": "eSqCf4yEAg7O"
      }
    },
    {
      "cell_type": "markdown",
      "source": [
        "Question-10 What is the difference between map(), reduce() , and filter() functions in Python?\n",
        "answer-\n",
        "map()\n",
        "\n",
        "*Purpose - Applies a function to each item in an iterable\n",
        "*Output - Transformed iterable (e.g., list, map object)\n",
        "*Use Cases - Transform or modify each element in a collection\n",
        "reduce()\n",
        "\n",
        "*Purpose - Applies a function cumulatively to combine items in an iterable\n",
        "*Output - A single accumulated value\n",
        "*Use Cases - Reduce a collection into a single result\n",
        "filter()\n",
        "\n",
        "*Purpose - Filters elements of an iterable based on a condition\n",
        "*Output - Filtered iterable (e.g., list, filter object)\n",
        "*Use Cases - Keep only elements that satisfy a condition"
      ],
      "metadata": {
        "id": "KN3iZ7gTAzzC"
      }
    },
    {
      "cell_type": "markdown",
      "source": [
        "Question-11 Using pen & Paper write the internal mechanism for sum operation using reduce function on this given list:[47,11,42,13]\n",
        "answer\n",
        "https://drive.google.com/file/d/1pmsozBs6qwLUlAPWF7-VeGHUTYx6OROG/view?usp=sharing"
      ],
      "metadata": {
        "id": "img_91AvBMeP"
      }
    },
    {
      "cell_type": "markdown",
      "source": [
        "**Practical Question**"
      ],
      "metadata": {
        "id": "MTl-vi1I8Ivr"
      }
    },
    {
      "cell_type": "markdown",
      "source": [
        "Question-1 Write a Python function that takes a list of numbers as input and returns the sum of all even numbers in the list."
      ],
      "metadata": {
        "id": "FWCuI4_kBfia"
      }
    },
    {
      "cell_type": "code",
      "source": [
        "def sum_of_even_numbers(numbers):\n",
        "    \"\"\"\n",
        "    Calculate the sum of all even numbers in a given list.\n",
        "\n",
        "    Parameters:\n",
        "    numbers (list): A list of integers.\n",
        "\n",
        "    Returns:\n",
        "    int: The sum of all even numbers in the list.\n",
        "    \"\"\"\n",
        "    even_sum = 0\n",
        "    for num in numbers:\n",
        "        if num % 2 == 0:  # Check if the number is even\n",
        "            even_sum += num\n",
        "    return even_sum\n",
        "\n",
        "# Example usage\n",
        "numbers_list = [10, 21, 4, 45, 66, 93]\n",
        "result = sum_of_even_numbers(numbers_list)\n",
        "print(\"Sum of even numbers:\", result)\n"
      ],
      "metadata": {
        "colab": {
          "base_uri": "https://localhost:8080/"
        },
        "id": "h--L6iTlI-nQ",
        "outputId": "7d82f893-08c1-4e6e-891e-05648f6672d4"
      },
      "execution_count": 24,
      "outputs": [
        {
          "output_type": "stream",
          "name": "stdout",
          "text": [
            "Sum of even numbers: 80\n"
          ]
        }
      ]
    },
    {
      "cell_type": "markdown",
      "source": [
        "Question-2 Create a Python function that accepts a string and returns the reverse of that string"
      ],
      "metadata": {
        "id": "pPIWj3gK68Qc"
      }
    },
    {
      "cell_type": "code",
      "source": [
        "def string(name):\n",
        "    return name[::-1]\n",
        "string('akash')\n"
      ],
      "metadata": {
        "colab": {
          "base_uri": "https://localhost:8080/",
          "height": 35
        },
        "id": "CgbIalXWEzPR",
        "outputId": "2c4dbee4-b38c-4234-c471-d29f9ab02c8d"
      },
      "execution_count": 9,
      "outputs": [
        {
          "output_type": "execute_result",
          "data": {
            "text/plain": [
              "'hsaka'"
            ],
            "application/vnd.google.colaboratory.intrinsic+json": {
              "type": "string"
            }
          },
          "metadata": {},
          "execution_count": 9
        }
      ]
    },
    {
      "cell_type": "markdown",
      "source": [
        "Question-3 Implement a Python function that takes a list of integers and returns a new list containing the squares of each number."
      ],
      "metadata": {
        "id": "6Z0H0UR5Flt4"
      }
    },
    {
      "cell_type": "code",
      "source": [
        "def square_numbers(numbers):\n",
        "    # Use a list comprehension to compute the squares of each number\n",
        "    return [num ** 2 for num in numbers]\n",
        "\n",
        "# Example usage\n",
        "numbers = [1, 2, 3, 4, 5]\n",
        "squared_numbers = square_numbers(numbers)\n",
        "print(\"Original list:\", numbers)\n",
        "print(\"Squared list:\", squared_numbers)"
      ],
      "metadata": {
        "colab": {
          "base_uri": "https://localhost:8080/"
        },
        "id": "CLPF7-Rs55Wr",
        "outputId": "69d74974-6e26-4736-8d64-1d2c465558c0"
      },
      "execution_count": 11,
      "outputs": [
        {
          "output_type": "stream",
          "name": "stdout",
          "text": [
            "Original list: [1, 2, 3, 4, 5]\n",
            "Squared list: [1, 4, 9, 16, 25]\n"
          ]
        }
      ]
    },
    {
      "cell_type": "markdown",
      "source": [
        "Question-4 Write a Python function that checks if a given number is prime or not from 1 to 200."
      ],
      "metadata": {
        "id": "LX4KGk8zFvRj"
      }
    },
    {
      "cell_type": "code",
      "source": [
        "def is_prime(n):\n",
        "    if n <= 2:\n",
        "        return False\n",
        "    for i in range(2, int(n**0.5) + 1):  # Check divisors up to sqrt(n)\n",
        "        if n % i == 0:\n",
        "            return False\n",
        "    return True\n",
        "\n",
        "# Check numbers from 1 to 200\n",
        "for num in range(1, 201):\n",
        "    if is_prime(num):\n",
        "        print(f\"{num} is a prime number\")\n",
        "    else:\n",
        "        print(f\"{num} is not a prime number\")"
      ],
      "metadata": {
        "colab": {
          "base_uri": "https://localhost:8080/"
        },
        "id": "4UI8_QbAFqFl",
        "outputId": "0cd59f01-6a41-4bd0-e253-1ea9038efddf"
      },
      "execution_count": 12,
      "outputs": [
        {
          "output_type": "stream",
          "name": "stdout",
          "text": [
            "1 is not a prime number\n",
            "2 is not a prime number\n",
            "3 is a prime number\n",
            "4 is not a prime number\n",
            "5 is a prime number\n",
            "6 is not a prime number\n",
            "7 is a prime number\n",
            "8 is not a prime number\n",
            "9 is not a prime number\n",
            "10 is not a prime number\n",
            "11 is a prime number\n",
            "12 is not a prime number\n",
            "13 is a prime number\n",
            "14 is not a prime number\n",
            "15 is not a prime number\n",
            "16 is not a prime number\n",
            "17 is a prime number\n",
            "18 is not a prime number\n",
            "19 is a prime number\n",
            "20 is not a prime number\n",
            "21 is not a prime number\n",
            "22 is not a prime number\n",
            "23 is a prime number\n",
            "24 is not a prime number\n",
            "25 is not a prime number\n",
            "26 is not a prime number\n",
            "27 is not a prime number\n",
            "28 is not a prime number\n",
            "29 is a prime number\n",
            "30 is not a prime number\n",
            "31 is a prime number\n",
            "32 is not a prime number\n",
            "33 is not a prime number\n",
            "34 is not a prime number\n",
            "35 is not a prime number\n",
            "36 is not a prime number\n",
            "37 is a prime number\n",
            "38 is not a prime number\n",
            "39 is not a prime number\n",
            "40 is not a prime number\n",
            "41 is a prime number\n",
            "42 is not a prime number\n",
            "43 is a prime number\n",
            "44 is not a prime number\n",
            "45 is not a prime number\n",
            "46 is not a prime number\n",
            "47 is a prime number\n",
            "48 is not a prime number\n",
            "49 is not a prime number\n",
            "50 is not a prime number\n",
            "51 is not a prime number\n",
            "52 is not a prime number\n",
            "53 is a prime number\n",
            "54 is not a prime number\n",
            "55 is not a prime number\n",
            "56 is not a prime number\n",
            "57 is not a prime number\n",
            "58 is not a prime number\n",
            "59 is a prime number\n",
            "60 is not a prime number\n",
            "61 is a prime number\n",
            "62 is not a prime number\n",
            "63 is not a prime number\n",
            "64 is not a prime number\n",
            "65 is not a prime number\n",
            "66 is not a prime number\n",
            "67 is a prime number\n",
            "68 is not a prime number\n",
            "69 is not a prime number\n",
            "70 is not a prime number\n",
            "71 is a prime number\n",
            "72 is not a prime number\n",
            "73 is a prime number\n",
            "74 is not a prime number\n",
            "75 is not a prime number\n",
            "76 is not a prime number\n",
            "77 is not a prime number\n",
            "78 is not a prime number\n",
            "79 is a prime number\n",
            "80 is not a prime number\n",
            "81 is not a prime number\n",
            "82 is not a prime number\n",
            "83 is a prime number\n",
            "84 is not a prime number\n",
            "85 is not a prime number\n",
            "86 is not a prime number\n",
            "87 is not a prime number\n",
            "88 is not a prime number\n",
            "89 is a prime number\n",
            "90 is not a prime number\n",
            "91 is not a prime number\n",
            "92 is not a prime number\n",
            "93 is not a prime number\n",
            "94 is not a prime number\n",
            "95 is not a prime number\n",
            "96 is not a prime number\n",
            "97 is a prime number\n",
            "98 is not a prime number\n",
            "99 is not a prime number\n",
            "100 is not a prime number\n",
            "101 is a prime number\n",
            "102 is not a prime number\n",
            "103 is a prime number\n",
            "104 is not a prime number\n",
            "105 is not a prime number\n",
            "106 is not a prime number\n",
            "107 is a prime number\n",
            "108 is not a prime number\n",
            "109 is a prime number\n",
            "110 is not a prime number\n",
            "111 is not a prime number\n",
            "112 is not a prime number\n",
            "113 is a prime number\n",
            "114 is not a prime number\n",
            "115 is not a prime number\n",
            "116 is not a prime number\n",
            "117 is not a prime number\n",
            "118 is not a prime number\n",
            "119 is not a prime number\n",
            "120 is not a prime number\n",
            "121 is not a prime number\n",
            "122 is not a prime number\n",
            "123 is not a prime number\n",
            "124 is not a prime number\n",
            "125 is not a prime number\n",
            "126 is not a prime number\n",
            "127 is a prime number\n",
            "128 is not a prime number\n",
            "129 is not a prime number\n",
            "130 is not a prime number\n",
            "131 is a prime number\n",
            "132 is not a prime number\n",
            "133 is not a prime number\n",
            "134 is not a prime number\n",
            "135 is not a prime number\n",
            "136 is not a prime number\n",
            "137 is a prime number\n",
            "138 is not a prime number\n",
            "139 is a prime number\n",
            "140 is not a prime number\n",
            "141 is not a prime number\n",
            "142 is not a prime number\n",
            "143 is not a prime number\n",
            "144 is not a prime number\n",
            "145 is not a prime number\n",
            "146 is not a prime number\n",
            "147 is not a prime number\n",
            "148 is not a prime number\n",
            "149 is a prime number\n",
            "150 is not a prime number\n",
            "151 is a prime number\n",
            "152 is not a prime number\n",
            "153 is not a prime number\n",
            "154 is not a prime number\n",
            "155 is not a prime number\n",
            "156 is not a prime number\n",
            "157 is a prime number\n",
            "158 is not a prime number\n",
            "159 is not a prime number\n",
            "160 is not a prime number\n",
            "161 is not a prime number\n",
            "162 is not a prime number\n",
            "163 is a prime number\n",
            "164 is not a prime number\n",
            "165 is not a prime number\n",
            "166 is not a prime number\n",
            "167 is a prime number\n",
            "168 is not a prime number\n",
            "169 is not a prime number\n",
            "170 is not a prime number\n",
            "171 is not a prime number\n",
            "172 is not a prime number\n",
            "173 is a prime number\n",
            "174 is not a prime number\n",
            "175 is not a prime number\n",
            "176 is not a prime number\n",
            "177 is not a prime number\n",
            "178 is not a prime number\n",
            "179 is a prime number\n",
            "180 is not a prime number\n",
            "181 is a prime number\n",
            "182 is not a prime number\n",
            "183 is not a prime number\n",
            "184 is not a prime number\n",
            "185 is not a prime number\n",
            "186 is not a prime number\n",
            "187 is not a prime number\n",
            "188 is not a prime number\n",
            "189 is not a prime number\n",
            "190 is not a prime number\n",
            "191 is a prime number\n",
            "192 is not a prime number\n",
            "193 is a prime number\n",
            "194 is not a prime number\n",
            "195 is not a prime number\n",
            "196 is not a prime number\n",
            "197 is a prime number\n",
            "198 is not a prime number\n",
            "199 is a prime number\n",
            "200 is not a prime number\n"
          ]
        }
      ]
    },
    {
      "cell_type": "markdown",
      "source": [
        "Question-5 Create an iterator class in Python that generates the Fibonacci sequence up to a specified number of terms."
      ],
      "metadata": {
        "id": "fpDrZDRtGGPH"
      }
    },
    {
      "cell_type": "code",
      "source": [
        "class FibonacciIterator:\n",
        "    def __init__(self, n_terms):\n",
        "        self.n_terms = n_terms  # Number of terms in the sequence\n",
        "        self.current = 0       # Index of the current term\n",
        "        self.a, self.b = 0, 1  # Starting values for the Fibonacci sequence\n",
        "\n",
        "    def __iter__(self):\n",
        "        return self\n",
        "\n",
        "    def __next__(self):\n",
        "        if self.current >= self.n_terms:\n",
        "            raise StopIteration  # Stop iteration when the sequence ends\n",
        "        if self.current == 0:\n",
        "            self.current += 1\n",
        "            return self.a  # Return the first term (0)\n",
        "        elif self.current == 1:\n",
        "            self.current += 1\n",
        "            return self.b  # Return the second term (1)\n",
        "        else:\n",
        "            # Calculate the next term in the sequence\n",
        "            next_value = self.a + self.b\n",
        "            self.a, self.b = self.b, next_value  # Update for the next iteration\n",
        "            self.current += 1\n",
        "            return next_value\n",
        "\n",
        "  # Example usage:\n",
        "n_terms = 10  # Specify the number of terms\n",
        "fib_iterator = FibonacciIterator(n_terms)\n",
        "\n",
        "for fib in fib_iterator:\n",
        "    print(fib)\n",
        "\n"
      ],
      "metadata": {
        "colab": {
          "base_uri": "https://localhost:8080/"
        },
        "id": "yDWoeamVF3kV",
        "outputId": "86ed17c5-b90b-4c9b-b3f6-11422772a73d"
      },
      "execution_count": 14,
      "outputs": [
        {
          "output_type": "stream",
          "name": "stdout",
          "text": [
            "0\n",
            "1\n",
            "1\n",
            "2\n",
            "3\n",
            "5\n",
            "8\n",
            "13\n",
            "21\n",
            "34\n"
          ]
        }
      ]
    },
    {
      "cell_type": "markdown",
      "source": [],
      "metadata": {
        "id": "Xj_uERDiGck4"
      }
    },
    {
      "cell_type": "markdown",
      "source": [
        "Question-6 Write a generator function in Python that yields the powers of 2 up to a given exponent."
      ],
      "metadata": {
        "id": "93UYRXWpGfbt"
      }
    },
    {
      "cell_type": "code",
      "source": [
        "def powers_(exponent):\n",
        "    for i in range(1,exponent + 1 ):\n",
        "        yield 2 ** i\n",
        "\n",
        "exponent = 5\n",
        "for power in powers_(exponent):\n",
        "    print(power)"
      ],
      "metadata": {
        "colab": {
          "base_uri": "https://localhost:8080/"
        },
        "id": "ZONSoCdxGaAR",
        "outputId": "95948d7e-b4ca-4244-9c83-26ba3ae1e4ca"
      },
      "execution_count": 16,
      "outputs": [
        {
          "output_type": "stream",
          "name": "stdout",
          "text": [
            "2\n",
            "4\n",
            "8\n",
            "16\n",
            "32\n"
          ]
        }
      ]
    },
    {
      "cell_type": "markdown",
      "source": [
        "Question-7 Implement a generator function that reads a file line by line and yields each line as a string."
      ],
      "metadata": {
        "id": "5emY4XFRGsJS"
      }
    },
    {
      "cell_type": "code",
      "source": [
        "def read_file_line_by_line(file_path):\n",
        "    with open(file_path, 'r') as file:\n",
        "        for line in file:\n",
        "            yield line.strip()  # .strip() removes any leading/trailing whitespace or newline characters"
      ],
      "metadata": {
        "id": "GGZqvMrUGiET"
      },
      "execution_count": 19,
      "outputs": []
    },
    {
      "cell_type": "markdown",
      "source": [
        "Question-8 Use a lambda function in Python to sort a list of tuples based on the second element of each tuple"
      ],
      "metadata": {
        "id": "23GMldIfHlB4"
      }
    },
    {
      "cell_type": "code",
      "source": [
        "# Sample list of tuples\n",
        "data = [(1, 3), (4, 1), (2, 2), (5, 0)]\n",
        "\n",
        "# Sorting using a lambda function\n",
        "sorted_data = sorted(data, key=lambda x: x[1])\n",
        "\n",
        "print(sorted_data)"
      ],
      "metadata": {
        "colab": {
          "base_uri": "https://localhost:8080/"
        },
        "id": "vLA1SBp1HhFq",
        "outputId": "1ac957cf-6689-478e-fda6-183dbb61598a"
      },
      "execution_count": 20,
      "outputs": [
        {
          "output_type": "stream",
          "name": "stdout",
          "text": [
            "[(5, 0), (4, 1), (2, 2), (1, 3)]\n"
          ]
        }
      ]
    },
    {
      "cell_type": "markdown",
      "source": [
        "Question-9 Write a Python program that uses map() to convert a list of temperatures from Celsius to Fahrenheit"
      ],
      "metadata": {
        "id": "TE7v_tP3HsWh"
      }
    },
    {
      "cell_type": "code",
      "source": [
        "# Function to convert Celsius to Fahrenheit\n",
        "def celsius_to_fahrenheit(celsius):\n",
        "    return (celsius * 9/5) + 32\n",
        "\n",
        "# List of temperatures in Celsius\n",
        "celsius_temperatures = [0, 20, 37, 100]\n",
        "\n",
        "# Using map to convert to Fahrenheit\n",
        "fahrenheit_temperatures = list(map(celsius_to_fahrenheit, celsius_temperatures))\n",
        "\n",
        "# Output the result\n",
        "print(\"Celsius:\", celsius_temperatures)\n",
        "print(\"Fahrenheit:\", fahrenheit_temperatures)"
      ],
      "metadata": {
        "colab": {
          "base_uri": "https://localhost:8080/"
        },
        "id": "2_VVU-PGHo0P",
        "outputId": "7eac5e3e-bf60-433b-bd9c-ad350ccfe6fe"
      },
      "execution_count": 21,
      "outputs": [
        {
          "output_type": "stream",
          "name": "stdout",
          "text": [
            "Celsius: [0, 20, 37, 100]\n",
            "Fahrenheit: [32.0, 68.0, 98.6, 212.0]\n"
          ]
        }
      ]
    },
    {
      "cell_type": "markdown",
      "source": [
        "Question-10 Create a Python program that uses filter() to remove all the vowels from a given string."
      ],
      "metadata": {
        "id": "DQSlCpgsH5aw"
      }
    },
    {
      "cell_type": "code",
      "source": [
        "# Function to check if a character is not a vowel\n",
        "def is_not_vowel(char):\n",
        "    vowels = 'aeiouAEIOU'\n",
        "    return char not in vowels\n",
        "\n",
        "# Given string\n",
        "input_string = \"Hello, how are you?\"\n",
        "\n",
        "# Using filter to remove vowels\n",
        "filtered_string = ''.join(filter(is_not_vowel, input_string))\n",
        "\n",
        "# Output the result\n",
        "print(\"Original String:\", input_string)\n",
        "print(\"String without vowels:\", filtered_string)"
      ],
      "metadata": {
        "colab": {
          "base_uri": "https://localhost:8080/"
        },
        "id": "DnnUnTRiH6HR",
        "outputId": "0c3a48b6-fbae-4b9f-8d4f-a499798bccda"
      },
      "execution_count": 22,
      "outputs": [
        {
          "output_type": "stream",
          "name": "stdout",
          "text": [
            "Original String: Hello, how are you?\n",
            "String without vowels: Hll, hw r y?\n"
          ]
        }
      ]
    },
    {
      "cell_type": "markdown",
      "source": [
        "Question-11 Imagine an accounting routine used in a book shop. It works on a list with sublists, which look like this:\n",
        "\n",
        "Write a Python program, which returns a list with 2-tuples. Each tuple consists of the order number and the product of the price per item and the quantity. The product should be increased by 10,- € if the value of the order is smaller than 100,00 €.\n",
        "\n",
        "Write a Python program using lambda and map"
      ],
      "metadata": {
        "id": "LoiHLXBMIC-S"
      }
    },
    {
      "cell_type": "code",
      "source": [
        "# Data\n",
        "orders = [\n",
        "    (34587, \"Learning Python\", \"Mark Lutz\", 4, 40.95),\n",
        "    (98762, \"Programming Python\", \"Mark Lutz\", 5, 56.80),\n",
        "    (77226, \"Head First Python\", \"Paul Barry\", 3, 32.95),\n",
        "    (88112, \"Einführung in Python3\", \"Bernd Klein\", 3, 24.99)\n",
        "]\n",
        "\n",
        "# Function to calculate total order value\n",
        "order_value = lambda order: (order[0], order[3] * order[4] + 10 if order[3] * order[4] < 100 else order[3] * order[4])\n",
        "\n",
        "# Calculate the result using map\n",
        "result = list(map(order_value, orders))\n",
        "\n",
        "# Print the result\n",
        "print(result)"
      ],
      "metadata": {
        "colab": {
          "base_uri": "https://localhost:8080/"
        },
        "id": "oQH8jNwRH9ap",
        "outputId": "8ee1b8db-c256-43dc-c871-eea306a6b4a7"
      },
      "execution_count": 23,
      "outputs": [
        {
          "output_type": "stream",
          "name": "stdout",
          "text": [
            "[(34587, 163.8), (98762, 284.0), (77226, 108.85000000000001), (88112, 84.97)]\n"
          ]
        }
      ]
    },
    {
      "cell_type": "code",
      "source": [
        "\n"
      ],
      "metadata": {
        "id": "bjrOeuGTIGwl"
      },
      "execution_count": null,
      "outputs": []
    }
  ]
}